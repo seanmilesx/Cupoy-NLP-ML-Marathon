{
 "cells": [
  {
   "cell_type": "markdown",
   "metadata": {
    "colab_type": "text",
    "id": "tTJolmzeBLGr"
   },
   "source": [
    "# 作業目標: 使用python正規表達式對資料進行清洗處理\n",
    "\n",
    "這份作業我們會使用詐欺郵件的文本資料來作為清洗與處理的操作。\n",
    "[資料集](https://www.kaggle.com/rtatman/fraudulent-email-corpus/data#)"
   ]
  },
  {
   "cell_type": "markdown",
   "metadata": {
    "colab_type": "text",
    "id": "vhv0OElTBLGs"
   },
   "source": [
    "### 讀入資料文本\n",
    "因原始文本較大，先使用部份擷取的**sample_emails.txt**來進行練習"
   ]
  },
  {
   "cell_type": "code",
   "execution_count": 48,
   "metadata": {
    "colab": {},
    "colab_type": "code",
    "id": "a0BdDqt1BLGt"
   },
   "outputs": [],
   "source": [
    "#讀取文本資料\n",
    "with open(\"sample_emails.txt\", \"r\") as file:\n",
    "    sample_corpus = file.read()"
   ]
  },
  {
   "cell_type": "code",
   "execution_count": 49,
   "metadata": {
    "colab": {},
    "colab_type": "code",
    "id": "XQbjXNKdBLGx",
    "outputId": "97497027-4c29-4dcf-9cf4-94b0081dac54",
    "scrolled": true
   },
   "outputs": [
    {
     "data": {
      "text/plain": [
       "'From r  Wed Oct 30 21:41:56 2002\\nReturn-Path: <james_ngola2002@maktoob.com>\\nX-Sieve: cmu-sieve 2.0\\nReturn-Path: <james_ngola2002@maktoob.com>\\nMessage-Id: <200210310241.g9V2fNm6028281@cs.CU>\\nFrom: \"MR. JAMES NGOLA.\" <james_ngola2002@maktoob.com>\\nReply-To: james_ngola2002@maktoob.com\\nTo: webmaster@aclweb.org\\nDate: Thu, 31 Oct 2002 02:38:20 +0000\\nSubject: URGENT BUSINESS ASSISTANCE AND PARTNERSHIP\\nX-Mailer: Microsoft Outlook Express 5.00.2919.6900 DM\\nMIME-Version: 1.0\\nContent-Type: text/plain; charset=\"us-ascii\"\\nContent-Transfer-Encoding: 8bit\\nX-MIME-Autoconverted: from quoted-printable to 8bit by sideshowmel.si.UM id g9V2foW24311\\nStatus: O\\n\\nFROM:MR. JAMES NGOLA.\\nCONFIDENTIAL TEL: 233-27-587908.\\nE-MAIL: (james_ngola2002@maktoob.com).\\n\\nURGENT BUSINESS ASSISTANCE AND PARTNERSHIP.\\n\\n\\nDEAR FRIEND,\\n\\nI AM ( DR.) JAMES NGOLA, THE PERSONAL ASSISTANCE TO THE LATE CONGOLESE (PRESIDENT LAURENT KABILA) WHO WAS ASSASSINATED BY HIS BODY GUARD ON 16TH JAN. 2001.\\n\\n\\nTHE INCIDENT OCCURRED IN OUR PRESENCE WHILE WE WERE HOLDING MEETING WITH HIS EXCELLENCY OVER THE FINANCIAL RETURNS FROM THE DIAMOND SALES IN THE AREAS CONTROLLED BY (D.R.C.) DEMOCRATIC REPUBLIC OF CONGO FORCES AND THEIR FOREIGN ALLIES ANGOLA AND ZIMBABWE, HAVING RECEIVED THE PREVIOUS DAY (USD$100M) ONE HUNDRED MILLION UNITED STATES DOLLARS, CASH IN THREE DIPLOMATIC BOXES ROUTED THROUGH ZIMBABWE.\\n\\nMY PURPOSE OF WRITING YOU THIS LETTER IS TO SOLICIT FOR YOUR ASSISTANCE AS TO BE A COVER TO THE FUND AND ALSO COLLABORATION IN MOVING THE SAID FUND INTO YOUR BANK ACCOUNT THE SUM OF (USD$25M) TWENTY FIVE MILLION UNITED STATES DOLLARS ONLY, WHICH I DEPOSITED WITH A SECURITY COMPANY IN GHANA, IN A DIPLOMATIC BOX AS GOLDS WORTH (USD$25M) TWENTY FIVE MILLION UNITED STATES DOLLARS ONLY FOR SAFE KEEPING IN A SECURITY VAULT FOR ANY FURTHER INVESTMENT PERHAPS IN YOUR COUNTRY. \\n\\nYOU WERE INTRODUCED TO ME BY A RELIABLE FRIEND OF MINE WHO IS A TRAVELLER,AND ALSO A MEMBER OF CHAMBER OF COMMERCE AS A RELIABLE AND TRUSTWORTHY PERSON WHOM I CAN RELY ON AS FOREIGN PARTNER, EVEN THOUGH THE NATURE OF THE TRANSACTION WAS NOT REVEALED TO HIM FOR SECURITY REASONS.\\n\\n\\nTHE (USD$25M) WAS PART OF A PROCEEDS FROM DIAMOND TRADE MEANT FOR THE LATE PRESIDENT LAURENT KABILA WHICH WAS DELIVERED THROUGH ZIMBABWE IN DIPLOMATIC BOXES. THE BOXES WERE KEPT UNDER MY CUSTODY BEFORE THE SAD EVENT THAT TOOK THE LIFE OF (MR. PRESIDENT).THE CONFUSION THAT ENSUED AFTER THE ASSASSINATION AND THE SPORADIC SHOOTING AMONG THE FACTIONS, I HAVE TO RUN AWAY FROM THE COUNTRY FOR MY DEAR LIFE AS I AM NOT A SOLDIER BUT A CIVIL SERVANT I CROSSED RIVER CONGO TO OTHER SIDE OF CONGO LIBREVILLE FROM THERE I MOVED TO THE THIRD COUNTRY GHANA WHERE I AM PRESENTLY TAKING REFUGE. \\n\\nAS A MATTER OF FACT, WHAT I URGENTLY NEEDED FROM YOU IS YOUR ASSISTANCE IN MOVING THIS MONEY INTO YOUR ACCOUNT IN YOUR COUNTRY FOR INVESTMENT WITHOUT RAISING EYEBROW. FOR YOUR ASSISTANCE I WILL GIVE YOU 20% OF THE TOTAL SUM AS YOUR OWN SHARE WHEN THE MONEY GETS TO YOUR ACCOUNT, WHILE 75% WILL BE FOR ME, OF WHICH WITH YOUR KIND ADVICE I HOPE TO INVEST IN PROFITABLE VENTURE IN YOUR COUNTRY IN OTHER TO SETTLE DOWN FOR MEANINGFUL LIFE, AS I AM TIRED OF LIVING IN A WAR ENVIRONMENT. \\n\\nTHE REMAINING 5% WILL BE USED TO OFFSET ANY COST INCURRED IN THE CAUSE OF MOVING THE MONEY TO YOUR ACCOUNT. IF THE PROPOSAL IS ACCEPTABLE TO YOU PLEASE CONTACT ME IMMEDIATELY THROUGH THE ABOVE TELEPHONE AND E-MAIL, TO ENABLE ME ARRANGE FACE TO FACE MEETING WITH YOU IN GHANA FOR THE CLEARANCE OF THE FUNDS BEFORE TRANSFRING IT TO YOUR BANK ACCOUNT AS SEEING IS BELIEVING. \\n\\nFINALLY, IT IS IMPORTANT ALSO THAT I LET YOU UNDERSTAND THAT THERE IS NO RISK INVOLVED WHATSOEVER AS THE MONEY HAD NO RECORD IN KINSHASA FOR IT WAS MEANT FOR THE PERSONAL USE OF (MR. PRESIDEND ) BEFORE THE NEFARIOUS INCIDENT OCCURRED, AND ALSO I HAVE ALL THE NECESSARY DOCUMENTS AS REGARDS TO THE FUNDS INCLUDING THE (CERTIFICATE OF DEPOSIT), AS I AM THE DEPOSITOR OF THE CONSIGNMENT.\\n\\n\\nLOOKING FORWARD TO YOUR URGENT RESPONSE.\\n\\nYOUR SINCERELY,\\n\\nMR. JAMES NGOLA. \\n\\n\\n\\n\\n\\n\\n\\n\\n\\n\\nFrom r  Thu Oct 31 08:11:39 2002\\nReturn-Path: <bensul2004nng@spinfinder.com>\\nX-Sieve: cmu-sieve 2.0\\nReturn-Path: <bensul2004nng@spinfinder.com>\\nMessage-Id: <200210311310.g9VDANt24674@bloodwork.mr.itd.UM>\\nFrom: \"Mr. Ben Suleman\" <bensul2004nng@spinfinder.com>\\nDate: Thu, 31 Oct 2002 05:10:00\\nTo: R@M\\nSubject: URGENT ASSISTANCE /RELATIONSHIP (P)\\nMIME-Version: 1.0\\nContent-Type: text/plain;charset=\"iso-8859-1\"\\nContent-Transfer-Encoding: 7bit\\nStatus: O\\n\\nDear Friend,\\n\\nI am Mr. Ben Suleman a custom officer and work as Assistant controller of the Customs and Excise department Of the Federal Ministry of Internal Affairs stationed at the Murtala Mohammed International Airport, Ikeja, Lagos-Nigeria.\\n\\nAfter the sudden death of the former Head of state of Nigeria General Sanni Abacha on June 8th 1998 his aides and immediate members of his family were arrested while trying to escape from Nigeria in a Chartered jet to Saudi Arabia with 6 trunk boxes Marked \"Diplomatic Baggage\". Acting on a tip-off as they attempted to board the Air Craft,my officials carried out a thorough search on the air craft and discovered that the 6 trunk boxes contained foreign currencies amounting to US$197,570,000.00(One Hundred and  Ninety-Seven Million Five Hundred Seventy Thousand United States Dollars).\\n\\nI declared only (5) five boxes to the government and withheld one (1) in my custody containing the sum of (US$30,000,000.00) Thirty Million United States Dollars Only, which has been disguised to prevent their being discovered during transportation process.Due to several media reports on the late head of state about all the money him and his co-government officials stole from our government treasury amounting\\nto US$55 Billion Dollars (ref:ngrguardiannews.com) of July 2nd 1999. Even the London times of July 1998 reported that General Abacha has over US$3.Billion dollars in one account overseas. We decided to conceal this one (1)box till the situation is calm and quite on the issue. The box was thus deposited with a security company here in Nigeria and tagged as \"Precious Stones and Jewellry\" in other that its\\ncontent will not be discovered. Now that all is calm, we (myself and two of my colleagues in the operations team) are now ready to move this box out of the country through a diplomatic arrangement which is the safest means. \\n\\nHowever as government officials the Civil Service Code of Conduct does not allow us by law to operate any foreign account or own foreign investment and the amount of money that can be found in our account\\ncannot be more than our salary on the average, thus our handicapp and our need for your assistance to help collect and keep safely in your account this money.\\n\\nTherefore we want you to assist us in moving this money out of Nigeria. We shall definitely compensate you handsomely for the assistance. We can do this by instructing the Security Company here in Nigeria to\\nmove the consignment to their affiliate branch office outside Nigeria through diplomatic means and the consignment will be termed as Precious Stones and Jewelleries\" which you bought during your visit to Nigeria and is being transfered to your country from here for safe keeping. Then we can arrange to meet at the destination country to take the delivery of the consignment. You will thereafter open an account there and lodge the Money there and gradually instruct remittance to your Country. \\n\\nThis business is 100% risk free for you so please treat this matter with utmost confidentiality .If you indicate your interest to assist us please just e-mail me for more Explanation on how we plan to execute the transaction.\\n\\nExpecting your response urgently.\\n\\nBest regards,\\n\\nMr. Ben Suleman\\n\\nFrom r  Thu Oct 31 17:27:16 2002\\nReturn-Path: <obong_715@epatra.com>\\nX-Sieve: cmu-sieve 2.0\\nReturn-Path: <obong_715@epatra.com>\\nMessage-Id: <200210312227.g9VMQvDj017948@bluewhale.cs.CU>\\nFrom: \"PRINCE OBONG ELEME\" <obong_715@epatra.com>\\nReply-To: obong_715@epatra.com\\nTo: webmaster@aclweb.org\\nDate: Thu, 31 Oct 2002 22:17:55 +0100\\nSubject: GOOD DAY TO YOU\\nX-Mailer: Microsoft Outlook Express 5.00.2919.6900DM\\nMIME-Version: 1.0\\nContent-Type: text/plain; charset=\"us-ascii\"\\nContent-Transfer-Encoding: 8bit\\nX-MIME-Autoconverted: from quoted-printable to 8bit by sideshowmel.si.UM id g9VMRBW20642\\nStatus: RO\\n\\nFROM HIS ROYAL MAJESTY (HRM) CROWN RULER OF ELEME KINGDOM \\nCHIEF DANIEL ELEME, PHD, EZE 1 OF ELEME.E-MAIL \\nADDRESS:obong_715@epatra.com  \\n\\nATTENTION:PRESIDENT,CEO Sir/ Madam. \\n\\nThis letter might surprise you because we have met\\nneither in person nor by correspondence. But I believe\\nit is one day that you got to know somebody either in\\nphysical or through correspondence. \\n\\nI got your contact through discreet inquiry from the\\nchambers of commerce and industry of your country on\\nthe net, you and your organization were revealed as\\nbeing quite astute in private entrepreneurship, one\\nhas no doubt in your ability to handle a financialbusiness transaction. \\n\\nHowever, I am the first son of His Royal\\nmajesty,Obong.D. Eleme , and the traditional Ruler of\\nEleme Province in the oil producing area of River\\nState of Nigeria. I am making this contact to you in\\nrespect of US$60,000,000.00 (Sixty Million United\\nState Dollars), which I inherited, from my latefather. \\n\\nThis money was accumulated from royalties paid to my\\nfather as compensation by the oil firms located in our\\narea as a result of oil presence on our land, which\\nhamper agriculture, which is our major source oflivelihood. \\n\\nUnfortunately my father died from protracted\\ndiabetes.But before his death he called my attention\\nand informed me that he lodged some funds on a two\\nboxes with a security firm with an open beneficiary\\nstatus. The lodgment security code number was also\\nrevealed to me, he then advised me to look for a\\nreliable business partner abroad, that will assist me\\nin investing the money in a lucrative business as a\\nresult of economic instability in Nigeria. So this is\\nthe main reason why I am contacting you for us to move\\nthis money from the security firm to any Country of\\nyour choice for investment purpose. \\n\\nSo I will like you to be the ultimate beneficiary, so\\nthat the funds can be moved in your name and\\nparticulars to any Country of your choice where it\\nwill be claimed and invested. Hence my father have had\\nintimated the security firm personnel that the\\nbeneficiary of the box is his foreign partner whose\\nparticulars will be forwarded to the firm when due. \\n\\nBut I will guide you Accordingly. As soon as the funds\\nreach, I will then come over to meet you in person, so\\nthat we can discuss physically on investment\\npotentials. Based on this assistance my Family and I\\nhave unanimously decided to give you 30% of the total\\nmoney, 5% for Charity home, 10% for expenses, which\\nmay arise during this transaction, Fax and phone bills\\ninclusive. The balance of 55% you will invest andmanaged for my Family. \\n\\nI hereby guarantee you that this is not government\\nmoney, it is not drug money and it is not money from\\narms deal. Though you have to maintain high degree of\\nconfidentiality on this matter. I will give more\\ndetails about the proceedings of this transaction as\\nsoon as I receive your favorable reply. \\n\\nPlease reply to my Email Address:obong_715@epatra.com\\nI hope this will be the beginning of a prosperous\\nrelationship between my family and your family. \\n\\nNevertheless if you are for any reason not interested,\\nkindly inform me immediately so that I will look foranother contact. \\n\\nI am waiting for your quick response. \\n\\nYours faithfully, \\n\\nPrince Obong Abbot \\n'"
      ]
     },
     "execution_count": 49,
     "metadata": {},
     "output_type": "execute_result"
    }
   ],
   "source": [
    "sample_corpus"
   ]
  },
  {
   "cell_type": "code",
   "execution_count": 5,
   "metadata": {},
   "outputs": [
    {
     "name": "stdout",
     "output_type": "stream",
     "text": [
      "From r  Wed Oct 30 21:41:56 2002\n",
      "Return-Path: <james_ngola2002@maktoob.com>\n",
      "X-Sieve: cmu-sieve 2.0\n",
      "Return-Path: <james_ngola2002@maktoob.com>\n",
      "Message-Id: <200210310241.g9V2fNm6028281@cs.CU>\n",
      "From: \"MR. JAMES NGOLA.\" <james_ngola2002@maktoob.com>\n",
      "Reply-To: james_ngola2002@maktoob.com\n",
      "To: webmaster@aclweb.org\n",
      "Date: Thu, 31 Oct 2002 02:38:20 +0000\n",
      "Subject: URGENT BUSINESS ASSISTANCE AND PARTNERSHIP\n",
      "X-Mailer: Microsoft Outlook Express 5.00.2919.6900 DM\n",
      "MIME-Version: 1.0\n",
      "Content-Type: text/plain; charset=\"us-ascii\"\n",
      "Content-Transfer-Encoding: 8bit\n",
      "X-MIME-Autoconverted: from quoted-printable to 8bit by sideshowmel.si.UM id g9V2foW24311\n",
      "Status: O\n",
      "\n",
      "FROM:MR. JAMES NGOLA.\n",
      "CONFIDENTIAL TEL: 233-27-587908.\n",
      "E-MAIL: (james_ngola2002@maktoob.com).\n",
      "\n",
      "URGENT BUSINESS ASSISTANCE AND PARTNERSHIP.\n",
      "\n",
      "\n",
      "DEAR FRIEND,\n",
      "\n",
      "I AM ( DR.) JAMES NGOLA, THE PERSONAL ASSISTANCE TO THE LATE CONGOLESE (PRESIDENT LAURENT KABILA) WHO WAS ASSASSINATED BY HIS BODY GUARD ON 16TH JAN. 2001.\n",
      "\n",
      "\n",
      "THE INCIDENT OCCURRED IN OUR PRESENCE WHILE WE WERE HOLDING MEETING WITH HIS EXCELLENCY OVER THE FINANCIAL RETURNS FROM THE DIAMOND SALES IN THE AREAS CONTROLLED BY (D.R.C.) DEMOCRATIC REPUBLIC OF CONGO FORCES AND THEIR FOREIGN ALLIES ANGOLA AND ZIMBABWE, HAVING RECEIVED THE PREVIOUS DAY (USD$100M) ONE HUNDRED MILLION UNITED STATES DOLLARS, CASH IN THREE DIPLOMATIC BOXES ROUTED THROUGH ZIMBABWE.\n",
      "\n",
      "MY PURPOSE OF WRITING YOU THIS LETTER IS TO SOLICIT FOR YOUR ASSISTANCE AS TO BE A COVER TO THE FUND AND ALSO COLLABORATION IN MOVING THE SAID FUND INTO YOUR BANK ACCOUNT THE SUM OF (USD$25M) TWENTY FIVE MILLION UNITED STATES DOLLARS ONLY, WHICH I DEPOSITED WITH A SECURITY COMPANY IN GHANA, IN A DIPLOMATIC BOX AS GOLDS WORTH (USD$25M) TWENTY FIVE MILLION UNITED STATES DOLLARS ONLY FOR SAFE KEEPING IN A SECURITY VAULT FOR ANY FURTHER INVESTMENT PERHAPS IN YOUR COUNTRY. \n",
      "\n",
      "YOU WERE INTRODUCED TO ME BY A RELIABLE FRIEND OF MINE WHO IS A TRAVELLER,AND ALSO A MEMBER OF CHAMBER OF COMMERCE AS A RELIABLE AND TRUSTWORTHY PERSON WHOM I CAN RELY ON AS FOREIGN PARTNER, EVEN THOUGH THE NATURE OF THE TRANSACTION WAS NOT REVEALED TO HIM FOR SECURITY REASONS.\n",
      "\n",
      "\n",
      "THE (USD$25M) WAS PART OF A PROCEEDS FROM DIAMOND TRADE MEANT FOR THE LATE PRESIDENT LAURENT KABILA WHICH WAS DELIVERED THROUGH ZIMBABWE IN DIPLOMATIC BOXES. THE BOXES WERE KEPT UNDER MY CUSTODY BEFORE THE SAD EVENT THAT TOOK THE LIFE OF (MR. PRESIDENT).THE CONFUSION THAT ENSUED AFTER THE ASSASSINATION AND THE SPORADIC SHOOTING AMONG THE FACTIONS, I HAVE TO RUN AWAY FROM THE COUNTRY FOR MY DEAR LIFE AS I AM NOT A SOLDIER BUT A CIVIL SERVANT I CROSSED RIVER CONGO TO OTHER SIDE OF CONGO LIBREVILLE FROM THERE I MOVED TO THE THIRD COUNTRY GHANA WHERE I AM PRESENTLY TAKING REFUGE. \n",
      "\n",
      "AS A MATTER OF FACT, WHAT I URGENTLY NEEDED FROM YOU IS YOUR ASSISTANCE IN MOVING THIS MONEY INTO YOUR ACCOUNT IN YOUR COUNTRY FOR INVESTMENT WITHOUT RAISING EYEBROW. FOR YOUR ASSISTANCE I WILL GIVE YOU 20% OF THE TOTAL SUM AS YOUR OWN SHARE WHEN THE MONEY GETS TO YOUR ACCOUNT, WHILE 75% WILL BE FOR ME, OF WHICH WITH YOUR KIND ADVICE I HOPE TO INVEST IN PROFITABLE VENTURE IN YOUR COUNTRY IN OTHER TO SETTLE DOWN FOR MEANINGFUL LIFE, AS I AM TIRED OF LIVING IN A WAR ENVIRONMENT. \n",
      "\n",
      "THE REMAINING 5% WILL BE USED TO OFFSET ANY COST INCURRED IN THE CAUSE OF MOVING THE MONEY TO YOUR ACCOUNT. IF THE PROPOSAL IS ACCEPTABLE TO YOU PLEASE CONTACT ME IMMEDIATELY THROUGH THE ABOVE TELEPHONE AND E-MAIL, TO ENABLE ME ARRANGE FACE TO FACE MEETING WITH YOU IN GHANA FOR THE CLEARANCE OF THE FUNDS BEFORE TRANSFRING IT TO YOUR BANK ACCOUNT AS SEEING IS BELIEVING. \n",
      "\n",
      "FINALLY, IT IS IMPORTANT ALSO THAT I LET YOU UNDERSTAND THAT THERE IS NO RISK INVOLVED WHATSOEVER AS THE MONEY HAD NO RECORD IN KINSHASA FOR IT WAS MEANT FOR THE PERSONAL USE OF (MR. PRESIDEND ) BEFORE THE NEFARIOUS INCIDENT OCCURRED, AND ALSO I HAVE ALL THE NECESSARY DOCUMENTS AS REGARDS TO THE FUNDS INCLUDING THE (CERTIFICATE OF DEPOSIT), AS I AM THE DEPOSITOR OF THE CONSIGNMENT.\n",
      "\n",
      "\n",
      "LOOKING FORWARD TO YOUR URGENT RESPONSE.\n",
      "\n",
      "YOUR SINCERELY,\n",
      "\n",
      "MR. JAMES NGOLA. \n",
      "\n",
      "\n",
      "\n",
      "\n",
      "\n",
      "\n",
      "\n",
      "\n",
      "\n",
      "\n",
      "From r  Thu Oct 31 08:11:39 2002\n",
      "Return-Path: <bensul2004nng@spinfinder.com>\n",
      "X-Sieve: cmu-sieve 2.0\n",
      "Return-Path: <bensul2004nng@spinfinder.com>\n",
      "Message-Id: <200210311310.g9VDANt24674@bloodwork.mr.itd.UM>\n",
      "From: \"Mr. Ben Suleman\" <bensul2004nng@spinfinder.com>\n",
      "Date: Thu, 31 Oct 2002 05:10:00\n",
      "To: R@M\n",
      "Subject: URGENT ASSISTANCE /RELATIONSHIP (P)\n",
      "MIME-Version: 1.0\n",
      "Content-Type: text/plain;charset=\"iso-8859-1\"\n",
      "Content-Transfer-Encoding: 7bit\n",
      "Status: O\n",
      "\n",
      "Dear Friend,\n",
      "\n",
      "I am Mr. Ben Suleman a custom officer and work as Assistant controller of the Customs and Excise department Of the Federal Ministry of Internal Affairs stationed at the Murtala Mohammed International Airport, Ikeja, Lagos-Nigeria.\n",
      "\n",
      "After the sudden death of the former Head of state of Nigeria General Sanni Abacha on June 8th 1998 his aides and immediate members of his family were arrested while trying to escape from Nigeria in a Chartered jet to Saudi Arabia with 6 trunk boxes Marked \"Diplomatic Baggage\". Acting on a tip-off as they attempted to board the Air Craft,my officials carried out a thorough search on the air craft and discovered that the 6 trunk boxes contained foreign currencies amounting to US$197,570,000.00(One Hundred and  Ninety-Seven Million Five Hundred Seventy Thousand United States Dollars).\n",
      "\n",
      "I declared only (5) five boxes to the government and withheld one (1) in my custody containing the sum of (US$30,000,000.00) Thirty Million United States Dollars Only, which has been disguised to prevent their being discovered during transportation process.Due to several media reports on the late head of state about all the money him and his co-government officials stole from our government treasury amounting\n",
      "to US$55 Billion Dollars (ref:ngrguardiannews.com) of July 2nd 1999. Even the London times of July 1998 reported that General Abacha has over US$3.Billion dollars in one account overseas. We decided to conceal this one (1)box till the situation is calm and quite on the issue. The box was thus deposited with a security company here in Nigeria and tagged as \"Precious Stones and Jewellry\" in other that its\n",
      "content will not be discovered. Now that all is calm, we (myself and two of my colleagues in the operations team) are now ready to move this box out of the country through a diplomatic arrangement which is the safest means. \n",
      "\n",
      "However as government officials the Civil Service Code of Conduct does not allow us by law to operate any foreign account or own foreign investment and the amount of money that can be found in our account\n",
      "cannot be more than our salary on the average, thus our handicapp and our need for your assistance to help collect and keep safely in your account this money.\n",
      "\n",
      "Therefore we want you to assist us in moving this money out of Nigeria. We shall definitely compensate you handsomely for the assistance. We can do this by instructing the Security Company here in Nigeria to\n",
      "move the consignment to their affiliate branch office outside Nigeria through diplomatic means and the consignment will be termed as Precious Stones and Jewelleries\" which you bought during your visit to Nigeria and is being transfered to your country from here for safe keeping. Then we can arrange to meet at the destination country to take the delivery of the consignment. You will thereafter open an account there and lodge the Money there and gradually instruct remittance to your Country. \n",
      "\n",
      "This business is 100% risk free for you so please treat this matter with utmost confidentiality .If you indicate your interest to assist us please just e-mail me for more Explanation on how we plan to execute the transaction.\n",
      "\n",
      "Expecting your response urgently.\n",
      "\n",
      "Best regards,\n",
      "\n",
      "Mr. Ben Suleman\n",
      "\n",
      "From r  Thu Oct 31 17:27:16 2002\n",
      "Return-Path: <obong_715@epatra.com>\n",
      "X-Sieve: cmu-sieve 2.0\n",
      "Return-Path: <obong_715@epatra.com>\n",
      "Message-Id: <200210312227.g9VMQvDj017948@bluewhale.cs.CU>\n",
      "From: \"PRINCE OBONG ELEME\" <obong_715@epatra.com>\n",
      "Reply-To: obong_715@epatra.com\n",
      "To: webmaster@aclweb.org\n",
      "Date: Thu, 31 Oct 2002 22:17:55 +0100\n",
      "Subject: GOOD DAY TO YOU\n",
      "X-Mailer: Microsoft Outlook Express 5.00.2919.6900DM\n",
      "MIME-Version: 1.0\n",
      "Content-Type: text/plain; charset=\"us-ascii\"\n",
      "Content-Transfer-Encoding: 8bit\n",
      "X-MIME-Autoconverted: from quoted-printable to 8bit by sideshowmel.si.UM id g9VMRBW20642\n",
      "Status: RO\n",
      "\n",
      "FROM HIS ROYAL MAJESTY (HRM) CROWN RULER OF ELEME KINGDOM \n",
      "CHIEF DANIEL ELEME, PHD, EZE 1 OF ELEME.E-MAIL \n",
      "ADDRESS:obong_715@epatra.com  \n",
      "\n",
      "ATTENTION:PRESIDENT,CEO Sir/ Madam. \n",
      "\n",
      "This letter might surprise you because we have met\n",
      "neither in person nor by correspondence. But I believe\n",
      "it is one day that you got to know somebody either in\n",
      "physical or through correspondence. \n",
      "\n",
      "I got your contact through discreet inquiry from the\n",
      "chambers of commerce and industry of your country on\n",
      "the net, you and your organization were revealed as\n",
      "being quite astute in private entrepreneurship, one\n",
      "has no doubt in your ability to handle a financialbusiness transaction. \n",
      "\n",
      "However, I am the first son of His Royal\n",
      "majesty,Obong.D. Eleme , and the traditional Ruler of\n",
      "Eleme Province in the oil producing area of River\n",
      "State of Nigeria. I am making this contact to you in\n",
      "respect of US$60,000,000.00 (Sixty Million United\n",
      "State Dollars), which I inherited, from my latefather. \n",
      "\n",
      "This money was accumulated from royalties paid to my\n",
      "father as compensation by the oil firms located in our\n",
      "area as a result of oil presence on our land, which\n",
      "hamper agriculture, which is our major source oflivelihood. \n",
      "\n",
      "Unfortunately my father died from protracted\n",
      "diabetes.But before his death he called my attention\n",
      "and informed me that he lodged some funds on a two\n",
      "boxes with a security firm with an open beneficiary\n",
      "status. The lodgment security code number was also\n",
      "revealed to me, he then advised me to look for a\n",
      "reliable business partner abroad, that will assist me\n",
      "in investing the money in a lucrative business as a\n",
      "result of economic instability in Nigeria. So this is\n",
      "the main reason why I am contacting you for us to move\n",
      "this money from the security firm to any Country of\n",
      "your choice for investment purpose. \n",
      "\n",
      "So I will like you to be the ultimate beneficiary, so\n",
      "that the funds can be moved in your name and\n",
      "particulars to any Country of your choice where it\n",
      "will be claimed and invested. Hence my father have had\n",
      "intimated the security firm personnel that the\n",
      "beneficiary of the box is his foreign partner whose\n",
      "particulars will be forwarded to the firm when due. \n",
      "\n",
      "But I will guide you Accordingly. As soon as the funds\n",
      "reach, I will then come over to meet you in person, so\n",
      "that we can discuss physically on investment\n",
      "potentials. Based on this assistance my Family and I\n",
      "have unanimously decided to give you 30% of the total\n",
      "money, 5% for Charity home, 10% for expenses, which\n",
      "may arise during this transaction, Fax and phone bills\n",
      "inclusive. The balance of 55% you will invest andmanaged for my Family. \n",
      "\n",
      "I hereby guarantee you that this is not government\n",
      "money, it is not drug money and it is not money from\n",
      "arms deal. Though you have to maintain high degree of\n",
      "confidentiality on this matter. I will give more\n",
      "details about the proceedings of this transaction as\n",
      "soon as I receive your favorable reply. \n",
      "\n",
      "Please reply to my Email Address:obong_715@epatra.com\n",
      "I hope this will be the beginning of a prosperous\n",
      "relationship between my family and your family. \n",
      "\n",
      "Nevertheless if you are for any reason not interested,\n",
      "kindly inform me immediately so that I will look foranother contact. \n",
      "\n",
      "I am waiting for your quick response. \n",
      "\n",
      "Yours faithfully, \n",
      "\n",
      "Prince Obong Abbot \n",
      "\n"
     ]
    }
   ],
   "source": [
    "sample_sentences = sample_corpus.split(\"\\n\")\n",
    "for sentence in sample_sentences:\n",
    "    print(sentence)"
   ]
  },
  {
   "cell_type": "markdown",
   "metadata": {
    "colab_type": "text",
    "id": "aUg8HenSBLG2"
   },
   "source": [
    "### 讀取寄件者資訊\n",
    "觀察文本資料可以發現, 寄件者資訊都符合以下格式\n",
    "\n",
    "`From: <收件者姓名> <收件者電子郵件>`"
   ]
  },
  {
   "cell_type": "code",
   "execution_count": 17,
   "metadata": {},
   "outputs": [],
   "source": [
    "import re"
   ]
  },
  {
   "cell_type": "code",
   "execution_count": 23,
   "metadata": {
    "colab": {},
    "colab_type": "code",
    "id": "YgsUuHsfBLG2"
   },
   "outputs": [],
   "source": [
    "match = re.findall(r\"From: \\\"([^\\n\\\"]*)\\\" <([^@>]+@[^@>]+\\.[^@>]+)>\", sample_corpus)"
   ]
  },
  {
   "cell_type": "code",
   "execution_count": 24,
   "metadata": {
    "colab": {},
    "colab_type": "code",
    "id": "pofRrOGhBLG5",
    "outputId": "28eb134d-2dfa-4743-fae8-1f0abda25968"
   },
   "outputs": [
    {
     "data": {
      "text/plain": [
       "[('MR. JAMES NGOLA.', 'james_ngola2002@maktoob.com'),\n",
       " ('Mr. Ben Suleman', 'bensul2004nng@spinfinder.com'),\n",
       " ('PRINCE OBONG ELEME', 'obong_715@epatra.com')]"
      ]
     },
     "execution_count": 24,
     "metadata": {},
     "output_type": "execute_result"
    }
   ],
   "source": [
    "match"
   ]
  },
  {
   "cell_type": "markdown",
   "metadata": {
    "colab_type": "text",
    "id": "Ac8KHAqTBLG7"
   },
   "source": [
    "### 只讀取寄件者姓名"
   ]
  },
  {
   "cell_type": "code",
   "execution_count": 28,
   "metadata": {
    "colab": {},
    "colab_type": "code",
    "id": "coBDE2iBBLG8",
    "outputId": "aada7b60-56bb-45ae-f25f-941218a541c2"
   },
   "outputs": [
    {
     "name": "stdout",
     "output_type": "stream",
     "text": [
      "MR. JAMES NGOLA.\n",
      "Mr. Ben Suleman\n",
      "PRINCE OBONG ELEME\n"
     ]
    }
   ],
   "source": [
    "sample_senders = {}\n",
    "for sender in match:\n",
    "    sample_senders[sender[0]] = sender[1]\n",
    "for name in sample_senders.keys():\n",
    "    print(name)"
   ]
  },
  {
   "cell_type": "markdown",
   "metadata": {
    "colab_type": "text",
    "id": "gaJefecaBLG-"
   },
   "source": [
    "### 只讀取寄件者電子信箱"
   ]
  },
  {
   "cell_type": "code",
   "execution_count": 29,
   "metadata": {
    "colab": {},
    "colab_type": "code",
    "id": "G55ADKW_BLG_",
    "outputId": "7f3d9657-87b9-4c78-d324-3df919ee84a7"
   },
   "outputs": [
    {
     "name": "stdout",
     "output_type": "stream",
     "text": [
      "james_ngola2002@maktoob.com\n",
      "bensul2004nng@spinfinder.com\n",
      "obong_715@epatra.com\n"
     ]
    }
   ],
   "source": [
    "for name in sample_senders.values():\n",
    "    print(name)"
   ]
  },
  {
   "cell_type": "markdown",
   "metadata": {
    "colab_type": "text",
    "id": "t-RXjNLiBLHC"
   },
   "source": [
    "### 只讀取電子信箱中的寄件機構資訊\n",
    "ex: james_ngola2002@maktoob.com --> 取maktoob"
   ]
  },
  {
   "cell_type": "code",
   "execution_count": 44,
   "metadata": {
    "colab": {},
    "colab_type": "code",
    "id": "qC2Sd6_SBLHC",
    "outputId": "14e4e148-a660-4a15-88ac-e781300c9767"
   },
   "outputs": [
    {
     "name": "stdout",
     "output_type": "stream",
     "text": [
      "maktoob\n",
      "spinfinder\n",
      "epatra\n"
     ]
    }
   ],
   "source": [
    "def get_user_and_org(mail_addr):\n",
    "    org = re.findall(r\"([^@]*)@([^\\.]*).*\", mail_addr)\n",
    "    assert len(org) == 1 and len(org[0]) == 2\n",
    "    return org[0]\n",
    "\n",
    "users_and_orgs = []\n",
    "for name in sample_senders.values():\n",
    "    users_and_orgs.append(get_user_and_org(name))\n",
    "    print(users_and_orgs[-1][1])"
   ]
  },
  {
   "cell_type": "markdown",
   "metadata": {
    "colab_type": "text",
    "id": "vfzkuLCWBLHG"
   },
   "source": [
    "### 結合上面的配對方式, 將寄件者的帳號與機構訊返回\n",
    "ex: james_ngola2002@maktoob.com --> [james_ngola2002, maktoob]"
   ]
  },
  {
   "cell_type": "code",
   "execution_count": 47,
   "metadata": {
    "colab": {},
    "colab_type": "code",
    "id": "t3lTRThcBLHG",
    "outputId": "e94f295a-ffa4-4897-dc43-e93991aac20e"
   },
   "outputs": [
    {
     "name": "stdout",
     "output_type": "stream",
     "text": [
      "james_ngola2002, maktoob\n",
      "bensul2004nng, spinfinder\n",
      "obong_715, epatra\n"
     ]
    }
   ],
   "source": [
    "for user in users_and_orgs:\n",
    "    print(\", \".join(user))"
   ]
  },
  {
   "cell_type": "markdown",
   "metadata": {
    "colab_type": "text",
    "id": "Yl-BMduNBLHJ"
   },
   "source": [
    "### 使用正規表達式對email資料進行處理\n",
    "這裡我們會使用到python其他的套件協助處理(ex: pandas, email, etc)，這裡我們只需要專注在正規表達式上即可，其他的套件是方便我們整理與處理資料。"
   ]
  },
  {
   "cell_type": "markdown",
   "metadata": {
    "colab_type": "text",
    "id": "kqCacQ9tBLHJ"
   },
   "source": [
    "### 讀取與切分Email\n",
    "讀入的email為一個長字串，利用正規表達式切割讀入的資料成一封一封的email，並將結果以list表示。\n",
    "\n",
    "輸出: [email_1, email_2, email_3, ....]"
   ]
  },
  {
   "cell_type": "code",
   "execution_count": 67,
   "metadata": {
    "colab": {},
    "colab_type": "code",
    "id": "k9BCVTqoBLHK",
    "outputId": "656ffc81-cb9b-4174-8511-9013985c4cad"
   },
   "outputs": [
    {
     "data": {
      "text/plain": [
       "3976"
      ]
     },
     "execution_count": 67,
     "metadata": {},
     "output_type": "execute_result"
    }
   ],
   "source": [
    "import re\n",
    "import pandas as pd\n",
    "import email\n",
    "\n",
    "###讀取文本資料:fradulent_emails.txt###\n",
    "with open(\"all_emails.txt\", \"r\", encoding=\"utf8\", errors=\"ignore\") as file:\n",
    "    all_emails = file.read()\n",
    "    \n",
    "###切割讀入的資料成一封一封的email###\n",
    "###我們可以使用list來儲存每一封email###\n",
    "###注意！這裡請仔細觀察sample資料，看資料是如何切分不同email###\n",
    "emails = all_emails.split(\"From r  \")\n",
    "emails = emails[1:]\n",
    "for i, email in enumerate(emails):\n",
    "    emails[i] = \"From r  \" + email\n",
    "\n",
    "len(emails) #查看有多少封email"
   ]
  },
  {
   "cell_type": "markdown",
   "metadata": {
    "colab_type": "text",
    "id": "e9IN-2o0BLHM"
   },
   "source": [
    "### 從文本中擷取所有寄件者與收件者的姓名和地址"
   ]
  },
  {
   "cell_type": "code",
   "execution_count": 115,
   "metadata": {
    "colab": {},
    "colab_type": "code",
    "id": "d_WRYFpcBLHM"
   },
   "outputs": [],
   "source": [
    "emails_list = [] #創建空list來儲存所有email資訊\n",
    "\n",
    "for mail in emails[:20]: #只取前20筆資料 (處理速度比較快)\n",
    "    emails_dict = dict() #創建空字典儲存資訊\n",
    "    ###取得寄件者姓名與地址###\n",
    "    \n",
    "    #Step1: 取得寄件者資訊 (hint: From:)\n",
    "    #Step2: 取得姓名與地址 (hint: 要注意有時會有沒取到配對的情況)\n",
    "    #Step3: 將取得的姓名與地址存入字典中\n",
    "    match = re.findall(r\"\\nFrom:\\s\\\"?\\s?([^\\\"\\<\\n]*[^\\\"\\<\\n\\s])\\s?\\\"?\\s?(?:\\<([^\\>\\n]*)\\>)?\\n\", mail)\n",
    "    assert len(match) == 1\n",
    "    emails_dict[\"sender\"] = (match[0][0], match[0][1] if len(match[0][1]) != 0 else match[0][0])\n",
    "    \n",
    "    ###取得收件者姓名與地址###\n",
    "    #Step1: 取得收件者資訊 (hint: To:)\n",
    "    #Step2: 取得姓名與地址 (hint: 要注意有時會有沒取到配對的情況)\n",
    "    #Step3: 將取得的姓名與地址存入字典中\n",
    "    match = re.findall(r\"\\nTo: ([^\\n]*)[\\s]*\\n\", mail)\n",
    "    assert len(match) < 2\n",
    "    if len(match) == 1:\n",
    "        emails_dict[\"recipient\"] = match[0]\n",
    "        \n",
    "    ###取得信件日期###\n",
    "    #Step1: 取得日期資訊 (hint: Date:)\n",
    "    #Step2: 取得詳細日期(只需取得DD MMM YYYY)\n",
    "    #Step3: 將取得的日期資訊存入字典中\n",
    "    match = re.findall(r\"\\nDate: [a-zA-Z]{3}, (\\d{1,2}) ([a-zA-Z]{3}) (\\d{4})[^\\n]*\\n\", mail)\n",
    "    assert len(match) < 2\n",
    "    if len(match) == 1:\n",
    "        emails_dict[\"date\"] = match[0]\n",
    "        \n",
    "    ###取得信件主旨###\n",
    "    #Step1: 取得主旨資訊 (hint: Subject:)\n",
    "    #Step2: 移除不必要文字 (hint: Subject: )\n",
    "    #Step3: 將取得的主旨存入字典中\n",
    "    match = re.findall(r\"\\nSubject: ([^\\n]*)[\\s]*\\n\", mail)\n",
    "    assert len(match) == 1\n",
    "    emails_dict[\"subject\"] = match[0]\n",
    "    \n",
    "    ###取得信件內文###\n",
    "    #這裡我們使用email package來取出email內文 (可以不需深究，本章節重點在正規表達式)\n",
    "    try:\n",
    "        full_email = email.message_from_string(mail)\n",
    "        body = full_email.get_payload()\n",
    "        emails_dict[\"email_body\"] = body\n",
    "    except:\n",
    "        emails_dict[\"email_body\"] = None\n",
    "    \n",
    "    ###將字典加入list###\n",
    "    emails_list.append(emails_dict)\n",
    "    # print(emails_dict)"
   ]
  },
  {
   "cell_type": "code",
   "execution_count": 116,
   "metadata": {
    "colab": {},
    "colab_type": "code",
    "id": "CBfQRiYPBLHP"
   },
   "outputs": [
    {
     "data": {
      "text/html": [
       "<div>\n",
       "<style scoped>\n",
       "    .dataframe tbody tr th:only-of-type {\n",
       "        vertical-align: middle;\n",
       "    }\n",
       "\n",
       "    .dataframe tbody tr th {\n",
       "        vertical-align: top;\n",
       "    }\n",
       "\n",
       "    .dataframe thead th {\n",
       "        text-align: right;\n",
       "    }\n",
       "</style>\n",
       "<table border=\"1\" class=\"dataframe\">\n",
       "  <thead>\n",
       "    <tr style=\"text-align: right;\">\n",
       "      <th></th>\n",
       "      <th>sender</th>\n",
       "      <th>recipient</th>\n",
       "      <th>date</th>\n",
       "      <th>subject</th>\n",
       "      <th>email_body</th>\n",
       "    </tr>\n",
       "  </thead>\n",
       "  <tbody>\n",
       "    <tr>\n",
       "      <td>0</td>\n",
       "      <td>(MR. JAMES NGOLA., james_ngola2002@maktoob.com)</td>\n",
       "      <td>webmaster@aclweb.org</td>\n",
       "      <td>(31, Oct, 2002)</td>\n",
       "      <td>URGENT BUSINESS ASSISTANCE AND PARTNERSHIP</td>\n",
       "      <td>None</td>\n",
       "    </tr>\n",
       "    <tr>\n",
       "      <td>1</td>\n",
       "      <td>(Mr. Ben Suleman, bensul2004nng@spinfinder.com)</td>\n",
       "      <td>R@M</td>\n",
       "      <td>(31, Oct, 2002)</td>\n",
       "      <td>URGENT ASSISTANCE /RELATIONSHIP (P)</td>\n",
       "      <td>None</td>\n",
       "    </tr>\n",
       "    <tr>\n",
       "      <td>2</td>\n",
       "      <td>(PRINCE OBONG ELEME, obong_715@epatra.com)</td>\n",
       "      <td>webmaster@aclweb.org</td>\n",
       "      <td>(31, Oct, 2002)</td>\n",
       "      <td>GOOD DAY TO YOU</td>\n",
       "      <td>None</td>\n",
       "    </tr>\n",
       "    <tr>\n",
       "      <td>3</td>\n",
       "      <td>(PRINCE OBONG ELEME, obong_715@epatra.com)</td>\n",
       "      <td>webmaster@aclweb.org</td>\n",
       "      <td>(31, Oct, 2002)</td>\n",
       "      <td>GOOD DAY TO YOU</td>\n",
       "      <td>None</td>\n",
       "    </tr>\n",
       "    <tr>\n",
       "      <td>4</td>\n",
       "      <td>(Maryam Abacha, m_abacha03@www.com)</td>\n",
       "      <td>R@M</td>\n",
       "      <td>(1, Nov, 2002)</td>\n",
       "      <td>I Need Your Assistance.</td>\n",
       "      <td>None</td>\n",
       "    </tr>\n",
       "    <tr>\n",
       "      <td>5</td>\n",
       "      <td>(Kuta David, davidkuta@postmark.net)</td>\n",
       "      <td>davidkuta@yahoo.com</td>\n",
       "      <td>(02, Nov, 2002)</td>\n",
       "      <td>Partnership</td>\n",
       "      <td>None</td>\n",
       "    </tr>\n",
       "    <tr>\n",
       "      <td>6</td>\n",
       "      <td>(Barrister tunde dosumu, tunde_dosumu@lycos.com)</td>\n",
       "      <td>NaN</td>\n",
       "      <td>NaN</td>\n",
       "      <td>Urgent Attention</td>\n",
       "      <td>None</td>\n",
       "    </tr>\n",
       "    <tr>\n",
       "      <td>7</td>\n",
       "      <td>(William Drallo, william2244drallo@maktoob.com)</td>\n",
       "      <td>webmaster@aclweb.org</td>\n",
       "      <td>(3, Nov, 2002)</td>\n",
       "      <td>URGENT BUSINESS PRPOSAL</td>\n",
       "      <td>None</td>\n",
       "    </tr>\n",
       "    <tr>\n",
       "      <td>8</td>\n",
       "      <td>(MR USMAN ABDUL, abdul_817@rediffmail.com)</td>\n",
       "      <td>R@M</td>\n",
       "      <td>(04, Nov, 2002)</td>\n",
       "      <td>THANK YOU</td>\n",
       "      <td>None</td>\n",
       "    </tr>\n",
       "    <tr>\n",
       "      <td>9</td>\n",
       "      <td>(Tunde  Dosumu, barrister_td@lycos.com)</td>\n",
       "      <td>NaN</td>\n",
       "      <td>NaN</td>\n",
       "      <td>Urgent Assistance</td>\n",
       "      <td>None</td>\n",
       "    </tr>\n",
       "    <tr>\n",
       "      <td>10</td>\n",
       "      <td>(MR TEMI JOHNSON, temijohnson2@rediffmail.com)</td>\n",
       "      <td>R@E</td>\n",
       "      <td>(6, Nov, 2001)</td>\n",
       "      <td>IMPORTANT</td>\n",
       "      <td>None</td>\n",
       "    </tr>\n",
       "    <tr>\n",
       "      <td>11</td>\n",
       "      <td>(Dr.Sam jordan, sjordan@diplomats.com)</td>\n",
       "      <td>R@M</td>\n",
       "      <td>(08, Nov, 2002)</td>\n",
       "      <td>URGENT ASSISTANCE.</td>\n",
       "      <td>None</td>\n",
       "    </tr>\n",
       "    <tr>\n",
       "      <td>12</td>\n",
       "      <td>(p_brown2@lawyer.com, p_brown2@lawyer.com)</td>\n",
       "      <td>webmaster@aclweb.org</td>\n",
       "      <td>(8, Nov, 2002)</td>\n",
       "      <td>From: Barrister Peter Brown</td>\n",
       "      <td>None</td>\n",
       "    </tr>\n",
       "    <tr>\n",
       "      <td>13</td>\n",
       "      <td>(mic_k1@post.com, mic_k1@post.com)</td>\n",
       "      <td>R@M</td>\n",
       "      <td>(11, Nov, 2002)</td>\n",
       "      <td>MICHAEL</td>\n",
       "      <td>None</td>\n",
       "    </tr>\n",
       "    <tr>\n",
       "      <td>14</td>\n",
       "      <td>(COL. MICHAEL BUNDU, mikebunduu1@rediffmail.com)</td>\n",
       "      <td>R@E</td>\n",
       "      <td>(13, Nov, 2001)</td>\n",
       "      <td>*****SPAM***** IMPORTANT</td>\n",
       "      <td>None</td>\n",
       "    </tr>\n",
       "    <tr>\n",
       "      <td>15</td>\n",
       "      <td>(MRS MARIAM ABACHA, elixwilliam@usa.com)</td>\n",
       "      <td>webmaster@aclweb.org</td>\n",
       "      <td>(14, Nov, 2002)</td>\n",
       "      <td>TRUST TRANSACTION</td>\n",
       "      <td>None</td>\n",
       "    </tr>\n",
       "    <tr>\n",
       "      <td>16</td>\n",
       "      <td>(DR. ANAYO AWKA, anayoawka@hotmail.com)</td>\n",
       "      <td>webmaster@aclweb.org</td>\n",
       "      <td>(15, Nov, 2002)</td>\n",
       "      <td>REQUEST FOR YOUR UNRESERVED ASSISTANCE</td>\n",
       "      <td>None</td>\n",
       "    </tr>\n",
       "    <tr>\n",
       "      <td>17</td>\n",
       "      <td>(DR. ANAYO AWKA, anayoawka@hotmail.com)</td>\n",
       "      <td>webmaster@aclweb.org</td>\n",
       "      <td>(15, Nov, 2002)</td>\n",
       "      <td>REQUEST FOR YOUR UNRESERVED ASSISTANCE</td>\n",
       "      <td>None</td>\n",
       "    </tr>\n",
       "    <tr>\n",
       "      <td>18</td>\n",
       "      <td>(Victor Aloma, victorloma@netscape.net)</td>\n",
       "      <td>ntcir-listmem@newns.op.nii.ac.jp</td>\n",
       "      <td>(16, Nov, 2002)</td>\n",
       "      <td>Urgent Assistance</td>\n",
       "      <td>None</td>\n",
       "    </tr>\n",
       "    <tr>\n",
       "      <td>19</td>\n",
       "      <td>(Victor Aloma, victorloma@netscape.net)</td>\n",
       "      <td>ntcir-outgoing@nii.ac.jp</td>\n",
       "      <td>(16, Nov, 2002)</td>\n",
       "      <td>Urgent Assistance</td>\n",
       "      <td>None</td>\n",
       "    </tr>\n",
       "  </tbody>\n",
       "</table>\n",
       "</div>"
      ],
      "text/plain": [
       "                                              sender  \\\n",
       "0    (MR. JAMES NGOLA., james_ngola2002@maktoob.com)   \n",
       "1    (Mr. Ben Suleman, bensul2004nng@spinfinder.com)   \n",
       "2         (PRINCE OBONG ELEME, obong_715@epatra.com)   \n",
       "3         (PRINCE OBONG ELEME, obong_715@epatra.com)   \n",
       "4                (Maryam Abacha, m_abacha03@www.com)   \n",
       "5               (Kuta David, davidkuta@postmark.net)   \n",
       "6   (Barrister tunde dosumu, tunde_dosumu@lycos.com)   \n",
       "7    (William Drallo, william2244drallo@maktoob.com)   \n",
       "8         (MR USMAN ABDUL, abdul_817@rediffmail.com)   \n",
       "9            (Tunde  Dosumu, barrister_td@lycos.com)   \n",
       "10    (MR TEMI JOHNSON, temijohnson2@rediffmail.com)   \n",
       "11            (Dr.Sam jordan, sjordan@diplomats.com)   \n",
       "12        (p_brown2@lawyer.com, p_brown2@lawyer.com)   \n",
       "13                (mic_k1@post.com, mic_k1@post.com)   \n",
       "14  (COL. MICHAEL BUNDU, mikebunduu1@rediffmail.com)   \n",
       "15          (MRS MARIAM ABACHA, elixwilliam@usa.com)   \n",
       "16           (DR. ANAYO AWKA, anayoawka@hotmail.com)   \n",
       "17           (DR. ANAYO AWKA, anayoawka@hotmail.com)   \n",
       "18           (Victor Aloma, victorloma@netscape.net)   \n",
       "19           (Victor Aloma, victorloma@netscape.net)   \n",
       "\n",
       "                           recipient             date  \\\n",
       "0               webmaster@aclweb.org  (31, Oct, 2002)   \n",
       "1                                R@M  (31, Oct, 2002)   \n",
       "2               webmaster@aclweb.org  (31, Oct, 2002)   \n",
       "3               webmaster@aclweb.org  (31, Oct, 2002)   \n",
       "4                                R@M   (1, Nov, 2002)   \n",
       "5                davidkuta@yahoo.com  (02, Nov, 2002)   \n",
       "6                                NaN              NaN   \n",
       "7               webmaster@aclweb.org   (3, Nov, 2002)   \n",
       "8                                R@M  (04, Nov, 2002)   \n",
       "9                                NaN              NaN   \n",
       "10                               R@E   (6, Nov, 2001)   \n",
       "11                               R@M  (08, Nov, 2002)   \n",
       "12              webmaster@aclweb.org   (8, Nov, 2002)   \n",
       "13                               R@M  (11, Nov, 2002)   \n",
       "14                               R@E  (13, Nov, 2001)   \n",
       "15              webmaster@aclweb.org  (14, Nov, 2002)   \n",
       "16              webmaster@aclweb.org  (15, Nov, 2002)   \n",
       "17              webmaster@aclweb.org  (15, Nov, 2002)   \n",
       "18  ntcir-listmem@newns.op.nii.ac.jp  (16, Nov, 2002)   \n",
       "19          ntcir-outgoing@nii.ac.jp  (16, Nov, 2002)   \n",
       "\n",
       "                                       subject email_body  \n",
       "0   URGENT BUSINESS ASSISTANCE AND PARTNERSHIP       None  \n",
       "1          URGENT ASSISTANCE /RELATIONSHIP (P)       None  \n",
       "2                              GOOD DAY TO YOU       None  \n",
       "3                              GOOD DAY TO YOU       None  \n",
       "4                      I Need Your Assistance.       None  \n",
       "5                                  Partnership       None  \n",
       "6                             Urgent Attention       None  \n",
       "7                      URGENT BUSINESS PRPOSAL       None  \n",
       "8                                    THANK YOU       None  \n",
       "9                            Urgent Assistance       None  \n",
       "10                                   IMPORTANT       None  \n",
       "11                          URGENT ASSISTANCE.       None  \n",
       "12                 From: Barrister Peter Brown       None  \n",
       "13                                     MICHAEL       None  \n",
       "14                    *****SPAM***** IMPORTANT       None  \n",
       "15                           TRUST TRANSACTION       None  \n",
       "16      REQUEST FOR YOUR UNRESERVED ASSISTANCE       None  \n",
       "17      REQUEST FOR YOUR UNRESERVED ASSISTANCE       None  \n",
       "18                           Urgent Assistance       None  \n",
       "19                           Urgent Assistance       None  "
      ]
     },
     "execution_count": 116,
     "metadata": {},
     "output_type": "execute_result"
    }
   ],
   "source": [
    "#將處理結果轉化為dataframe\n",
    "emails_df = pd.DataFrame(emails_list)\n",
    "emails_df"
   ]
  }
 ],
 "metadata": {
  "colab": {
   "name": "Python_regular_expression_作業.ipynb",
   "provenance": []
  },
  "kernelspec": {
   "display_name": "Python 3",
   "language": "python",
   "name": "python3"
  },
  "language_info": {
   "codemirror_mode": {
    "name": "ipython",
    "version": 3
   },
   "file_extension": ".py",
   "mimetype": "text/x-python",
   "name": "python",
   "nbconvert_exporter": "python",
   "pygments_lexer": "ipython3",
   "version": "3.7.3"
  }
 },
 "nbformat": 4,
 "nbformat_minor": 1
}
